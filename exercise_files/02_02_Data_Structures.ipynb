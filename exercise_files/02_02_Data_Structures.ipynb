{
 "cells": [
  {
   "cell_type": "markdown",
   "id": "2d0359bf",
   "metadata": {},
   "source": [
    "# Data Structures"
   ]
  },
  {
   "cell_type": "markdown",
   "id": "cc61a7fd",
   "metadata": {},
   "source": [
    "## Lists"
   ]
  },
  {
   "cell_type": "code",
   "execution_count": 1,
   "id": "124dfa4d",
   "metadata": {},
   "outputs": [
    {
     "name": "stdout",
     "output_type": "stream",
     "text": [
      "[1, 2, 3, 4]\n"
     ]
    }
   ],
   "source": [
    "my_list = [1,2,3,4]\n",
    "print(my_list)"
   ]
  },
  {
   "cell_type": "code",
   "execution_count": 2,
   "id": "343cab68",
   "metadata": {},
   "outputs": [],
   "source": [
    "my_list = ['list', 'of', 'strings']"
   ]
  },
  {
   "cell_type": "code",
   "execution_count": 3,
   "id": "31dd5ace",
   "metadata": {},
   "outputs": [],
   "source": [
    "my_list = [1,'list', False, []]"
   ]
  },
  {
   "cell_type": "code",
   "execution_count": 4,
   "id": "341e6193",
   "metadata": {},
   "outputs": [],
   "source": [
    "my_list = [[1,2,3],[False, True], []]"
   ]
  },
  {
   "cell_type": "code",
   "execution_count": 5,
   "id": "71054a67",
   "metadata": {},
   "outputs": [
    {
     "data": {
      "text/plain": [
       "3"
      ]
     },
     "execution_count": 5,
     "metadata": {},
     "output_type": "execute_result"
    }
   ],
   "source": [
    "len(my_list)"
   ]
  },
  {
   "cell_type": "code",
   "execution_count": 6,
   "id": "d01e60e0",
   "metadata": {},
   "outputs": [
    {
     "data": {
      "text/plain": [
       "list"
      ]
     },
     "execution_count": 6,
     "metadata": {},
     "output_type": "execute_result"
    }
   ],
   "source": [
    "type(my_list)"
   ]
  },
  {
   "cell_type": "code",
   "execution_count": 7,
   "id": "b5a2aa36",
   "metadata": {},
   "outputs": [
    {
     "data": {
      "text/plain": [
       "[[1, 2, 3], [False, True], [], 5]"
      ]
     },
     "execution_count": 7,
     "metadata": {},
     "output_type": "execute_result"
    }
   ],
   "source": [
    "my_list.append(5)\n",
    "my_list"
   ]
  },
  {
   "cell_type": "code",
   "execution_count": 9,
   "id": "82718f98",
   "metadata": {},
   "outputs": [
    {
     "data": {
      "text/plain": [
       "[[1, 2, 3], [False, True], [434], 5]"
      ]
     },
     "execution_count": 9,
     "metadata": {},
     "output_type": "execute_result"
    }
   ],
   "source": [
    "my_list[2].append(434)\n",
    "my_list"
   ]
  },
  {
   "cell_type": "markdown",
   "id": "fe9bdfd8",
   "metadata": {},
   "source": [
    "## Sets"
   ]
  },
  {
   "cell_type": "code",
   "execution_count": 10,
   "id": "2cd42f05",
   "metadata": {},
   "outputs": [
    {
     "name": "stdout",
     "output_type": "stream",
     "text": [
      "{1, 2, 3, 4, 5}\n"
     ]
    }
   ],
   "source": [
    "my_set = {1,2,3,4,5}\n",
    "print(my_set)"
   ]
  },
  {
   "cell_type": "code",
   "execution_count": 11,
   "id": "ce2034e0",
   "metadata": {},
   "outputs": [
    {
     "data": {
      "text/plain": [
       "set"
      ]
     },
     "execution_count": 11,
     "metadata": {},
     "output_type": "execute_result"
    }
   ],
   "source": [
    "type(my_set)"
   ]
  },
  {
   "cell_type": "code",
   "execution_count": 12,
   "id": "c40a0c41",
   "metadata": {},
   "outputs": [
    {
     "data": {
      "text/plain": [
       "5"
      ]
     },
     "execution_count": 12,
     "metadata": {},
     "output_type": "execute_result"
    }
   ],
   "source": [
    "len(my_set)"
   ]
  },
  {
   "cell_type": "code",
   "execution_count": null,
   "id": "4dacc8e7",
   "metadata": {},
   "outputs": [],
   "source": [
    "my_set = {1,1,2,2}\n",
    "len(my_set)\n",
    "print(my_set)"
   ]
  },
  {
   "cell_type": "code",
   "execution_count": null,
   "id": "04796b0e",
   "metadata": {},
   "outputs": [],
   "source": [
    "[1,2] == [2,1]"
   ]
  },
  {
   "cell_type": "code",
   "execution_count": null,
   "id": "542b7600",
   "metadata": {},
   "outputs": [],
   "source": [
    "{1,2,3} == {3,2,1,1,1}"
   ]
  },
  {
   "cell_type": "markdown",
   "id": "2d54cd5f",
   "metadata": {},
   "source": [
    "## Tuples"
   ]
  },
  {
   "cell_type": "code",
   "execution_count": null,
   "id": "f8d946cf",
   "metadata": {},
   "outputs": [],
   "source": [
    "my_tuple = (1,2,3)"
   ]
  },
  {
   "cell_type": "code",
   "execution_count": null,
   "id": "2b1218e0",
   "metadata": {},
   "outputs": [],
   "source": [
    "len(my_tuple)"
   ]
  },
  {
   "cell_type": "code",
   "execution_count": null,
   "id": "0b11e898",
   "metadata": {},
   "outputs": [],
   "source": [
    "(1,2) == (2,1)"
   ]
  },
  {
   "cell_type": "code",
   "execution_count": null,
   "id": "f4f0164e",
   "metadata": {},
   "outputs": [],
   "source": [
    "my_list.append(6)\n",
    "print(my_list)"
   ]
  },
  {
   "cell_type": "code",
   "execution_count": null,
   "id": "3fc754a7",
   "metadata": {},
   "outputs": [],
   "source": [
    "my_tuple.append(4)"
   ]
  },
  {
   "cell_type": "markdown",
   "id": "491e40c6",
   "metadata": {},
   "source": [
    "## Dictionaries"
   ]
  },
  {
   "cell_type": "code",
   "execution_count": null,
   "id": "07eacb6d",
   "metadata": {},
   "outputs": [],
   "source": [
    "my_dictionary = {\n",
    "    'apple': 'A red fruit', \n",
    "    'bear': 'A scary animal'\n",
    "}"
   ]
  },
  {
   "cell_type": "code",
   "execution_count": null,
   "id": "e62a0f43",
   "metadata": {},
   "outputs": [],
   "source": [
    "my_dictionary['apple']"
   ]
  },
  {
   "cell_type": "code",
   "execution_count": null,
   "id": "40a2a490",
   "metadata": {},
   "outputs": [],
   "source": [
    "my_dictionary = {\n",
    "    'apple': 'A red fruit', \n",
    "    'bear': 'A scary animal',\n",
    "    'apple': 'Sometimes a green fruit'\n",
    "}"
   ]
  },
  {
   "cell_type": "code",
   "execution_count": null,
   "id": "97ccc4aa",
   "metadata": {},
   "outputs": [],
   "source": [
    "my_dictionary['apple']"
   ]
  },
  {
   "cell_type": "code",
   "execution_count": null,
   "id": "cb8ac863",
   "metadata": {},
   "outputs": [],
   "source": []
  }
 ],
 "metadata": {
  "kernelspec": {
   "display_name": "Python 3",
   "language": "python",
   "name": "python3"
  },
  "language_info": {
   "codemirror_mode": {
    "name": "ipython",
    "version": 3
   },
   "file_extension": ".py",
   "mimetype": "text/x-python",
   "name": "python",
   "nbconvert_exporter": "python",
   "pygments_lexer": "ipython3",
   "version": "3.10.9"
  },
  "vscode": {
   "interpreter": {
    "hash": "7979fad80aa1335d30ea56a984fe1e89b052a6547b2b39a157bd1a9595359baa"
   }
  }
 },
 "nbformat": 4,
 "nbformat_minor": 5
}
