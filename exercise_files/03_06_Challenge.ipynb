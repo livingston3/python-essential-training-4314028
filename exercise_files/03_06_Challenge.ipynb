{
 "cells": [
  {
   "cell_type": "markdown",
   "id": "5cd90a72",
   "metadata": {},
   "source": [
    "## Converting Hexadecimal to Decimal\n",
    "\n",
    "Hexadecimal or \"base 16\" uses all of the numbers 0 - 9, plus a few others to signify higher numbers:\n",
    "\n",
    "A = 10\n",
    "\n",
    "B = 11\n",
    "\n",
    "C = 12\n",
    "\n",
    "D = 13\n",
    "\n",
    "E = 14\n",
    "\n",
    "F = 15\n",
    "\n",
    "Therefore, the number 'D' in hexadecimal would be 13 in decimal.\n",
    "\n",
    "The number '1A' in hexadecimal would be 26 in decimal. Just like we have the \"tens\" place in base 10, hexadecimal has the \"sixteens\" place. So 1A would be 16 + 10 or 26. \n",
    "\n",
    "And just like decimal has the \"hundreds\" place (because 10 * 10 is 100), hexadecimal has the \"256's\" place (because 16 * 16 is 256) So 'ABC' in hexadecimal is (256 * 10) + (16 * 11) + (1 * 12) or 2,748\n"
   ]
  },
  {
   "cell_type": "code",
   "execution_count": 24,
   "id": "cfc54187",
   "metadata": {},
   "outputs": [],
   "source": [
    "hexNumbers = {\n",
    "    '0': 0, '1': 1, '2': 2, '3': 3, '4': 4, '5': 5, '6': 6, '7': 7, '8': 8, '9': 9,\n",
    "    'A': 10, 'B': 11, 'C': 12, 'D': 13, 'E': 14, 'F': 15\n",
    "}\n",
    "\n",
    "# Converts a string hexadecimal number into an integer decimal\n",
    "# If hexNum is not a valid hexadecimal number, returns None\n",
    "def hexToDec(hexNum):\n",
    "    if len(hexNum) == 1 and hexNum[0] in hexNumbers:\n",
    "        answer = hexNumbers[hexNum[0]]\n",
    "        return answer\n",
    "    elif len(hexNum) == 2 and hexNum[0] in hexNumbers and hexNum[1] in hexNumbers:\n",
    "        answer = (16 * hexNumbers[hexNum[0]]) + hexNumbers[hexNum[1]]\n",
    "        return answer\n",
    "    elif len(hexNum) == 3 and hexNum[0] in hexNumbers and hexNum[1] in hexNumbers and hexNum[2] in hexNumbers:\n",
    "        answer = (256 * hexNumbers[hexNum[0]]) + (16 * hexNumbers[hexNum[1]]) + hexNumbers[hexNum[2]]\n",
    "        return answer\n",
    "    else:\n",
    "        return None"
   ]
  },
  {
   "cell_type": "code",
   "execution_count": 25,
   "id": "6871966d",
   "metadata": {},
   "outputs": [
    {
     "data": {
      "text/plain": [
       "10"
      ]
     },
     "execution_count": 25,
     "metadata": {},
     "output_type": "execute_result"
    }
   ],
   "source": [
    "# 10\n",
    "hexToDec('A')"
   ]
  },
  {
   "cell_type": "code",
   "execution_count": 26,
   "id": "fbac89a5",
   "metadata": {},
   "outputs": [
    {
     "data": {
      "text/plain": [
       "0"
      ]
     },
     "execution_count": 26,
     "metadata": {},
     "output_type": "execute_result"
    }
   ],
   "source": [
    "# 0\n",
    "hexToDec('0')"
   ]
  },
  {
   "cell_type": "code",
   "execution_count": 27,
   "id": "e8471b43",
   "metadata": {},
   "outputs": [
    {
     "data": {
      "text/plain": [
       "27"
      ]
     },
     "execution_count": 27,
     "metadata": {},
     "output_type": "execute_result"
    }
   ],
   "source": [
    "# 27\n",
    "hexToDec('1B')"
   ]
  },
  {
   "cell_type": "code",
   "execution_count": 28,
   "id": "828e6dce",
   "metadata": {},
   "outputs": [
    {
     "data": {
      "text/plain": [
       "960"
      ]
     },
     "execution_count": 28,
     "metadata": {},
     "output_type": "execute_result"
    }
   ],
   "source": [
    "# 960\n",
    "hexToDec('3C0')"
   ]
  },
  {
   "cell_type": "code",
   "execution_count": 29,
   "id": "86051c1a",
   "metadata": {},
   "outputs": [],
   "source": [
    "# None\n",
    "hexToDec('A6G')"
   ]
  },
  {
   "cell_type": "code",
   "execution_count": 30,
   "id": "598538ff",
   "metadata": {},
   "outputs": [],
   "source": [
    "# None\n",
    "hexToDec('ZZTOP')"
   ]
  }
 ],
 "metadata": {
  "kernelspec": {
   "display_name": "Python 3",
   "language": "python",
   "name": "python3"
  },
  "language_info": {
   "codemirror_mode": {
    "name": "ipython",
    "version": 3
   },
   "file_extension": ".py",
   "mimetype": "text/x-python",
   "name": "python",
   "nbconvert_exporter": "python",
   "pygments_lexer": "ipython3",
   "version": "3.10.10"
  },
  "vscode": {
   "interpreter": {
    "hash": "7979fad80aa1335d30ea56a984fe1e89b052a6547b2b39a157bd1a9595359baa"
   }
  }
 },
 "nbformat": 4,
 "nbformat_minor": 5
}
