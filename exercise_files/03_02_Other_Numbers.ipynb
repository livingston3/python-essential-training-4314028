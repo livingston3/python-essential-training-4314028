{
 "cells": [
  {
   "cell_type": "code",
   "execution_count": 8,
   "id": "6198165c",
   "metadata": {},
   "outputs": [],
   "source": [
    "from decimal import Decimal, getcontext"
   ]
  },
  {
   "cell_type": "markdown",
   "id": "07c07c37",
   "metadata": {},
   "source": [
    "## Integers"
   ]
  },
  {
   "cell_type": "code",
   "execution_count": 2,
   "id": "90fc3a0f",
   "metadata": {},
   "outputs": [
    {
     "data": {
      "text/plain": [
       "100"
      ]
     },
     "execution_count": 2,
     "metadata": {},
     "output_type": "execute_result"
    }
   ],
   "source": [
    "int('100')"
   ]
  },
  {
   "cell_type": "code",
   "execution_count": 3,
   "id": "d8b37c5e",
   "metadata": {},
   "outputs": [
    {
     "data": {
      "text/plain": [
       "4"
      ]
     },
     "execution_count": 3,
     "metadata": {},
     "output_type": "execute_result"
    }
   ],
   "source": [
    "int('100', 2)"
   ]
  },
  {
   "cell_type": "code",
   "execution_count": 4,
   "id": "4a827a52",
   "metadata": {},
   "outputs": [
    {
     "ename": "TypeError",
     "evalue": "int() can't convert non-string with explicit base",
     "output_type": "error",
     "traceback": [
      "\u001b[1;31m---------------------------------------------------------------------------\u001b[0m",
      "\u001b[1;31mTypeError\u001b[0m                                 Traceback (most recent call last)",
      "Cell \u001b[1;32mIn [4], line 1\u001b[0m\n\u001b[1;32m----> 1\u001b[0m \u001b[39mint\u001b[39;49m(\u001b[39m100\u001b[39;49m, \u001b[39m2\u001b[39;49m)\n",
      "\u001b[1;31mTypeError\u001b[0m: int() can't convert non-string with explicit base"
     ]
    }
   ],
   "source": [
    "int(100, 2)"
   ]
  },
  {
   "cell_type": "code",
   "execution_count": 5,
   "id": "a8a0e4f7",
   "metadata": {},
   "outputs": [
    {
     "data": {
      "text/plain": [
       "427"
      ]
     },
     "execution_count": 5,
     "metadata": {},
     "output_type": "execute_result"
    }
   ],
   "source": [
    "int('1ab', 16)"
   ]
  },
  {
   "cell_type": "code",
   "execution_count": 6,
   "id": "f625c653",
   "metadata": {},
   "outputs": [
    {
     "data": {
      "text/plain": [
       "0.19999999999999996"
      ]
     },
     "execution_count": 6,
     "metadata": {},
     "output_type": "execute_result"
    }
   ],
   "source": [
    "1.2 - 1.0"
   ]
  },
  {
   "cell_type": "markdown",
   "id": "8c7e7020",
   "metadata": {},
   "source": [
    "## Decimals"
   ]
  },
  {
   "cell_type": "code",
   "execution_count": 9,
   "id": "0e9334d6",
   "metadata": {},
   "outputs": [
    {
     "data": {
      "text/plain": [
       "Context(prec=28, rounding=ROUND_HALF_EVEN, Emin=-999999, Emax=999999, capitals=1, clamp=0, flags=[], traps=[InvalidOperation, DivisionByZero, Overflow])"
      ]
     },
     "execution_count": 9,
     "metadata": {},
     "output_type": "execute_result"
    }
   ],
   "source": [
    "getcontext()"
   ]
  },
  {
   "cell_type": "code",
   "execution_count": 10,
   "id": "32dc75fb",
   "metadata": {},
   "outputs": [],
   "source": [
    "getcontext().prec=4"
   ]
  },
  {
   "cell_type": "code",
   "execution_count": 11,
   "id": "fd4dad61",
   "metadata": {},
   "outputs": [
    {
     "data": {
      "text/plain": [
       "Context(prec=4, rounding=ROUND_HALF_EVEN, Emin=-999999, Emax=999999, capitals=1, clamp=0, flags=[], traps=[InvalidOperation, DivisionByZero, Overflow])"
      ]
     },
     "execution_count": 11,
     "metadata": {},
     "output_type": "execute_result"
    }
   ],
   "source": [
    "getcontext()"
   ]
  },
  {
   "cell_type": "code",
   "execution_count": 12,
   "id": "645adafe",
   "metadata": {},
   "outputs": [
    {
     "data": {
      "text/plain": [
       "Decimal('0.3333')"
      ]
     },
     "execution_count": 12,
     "metadata": {},
     "output_type": "execute_result"
    }
   ],
   "source": [
    "Decimal(1) / Decimal(3)"
   ]
  },
  {
   "cell_type": "code",
   "execution_count": 14,
   "id": "4c4f9d41",
   "metadata": {},
   "outputs": [],
   "source": [
    "getcontext().prec=2"
   ]
  },
  {
   "cell_type": "code",
   "execution_count": 15,
   "id": "720466f4",
   "metadata": {},
   "outputs": [
    {
     "data": {
      "text/plain": [
       "Decimal('0.33')"
      ]
     },
     "execution_count": 15,
     "metadata": {},
     "output_type": "execute_result"
    }
   ],
   "source": [
    "Decimal(1) / Decimal(3)"
   ]
  },
  {
   "cell_type": "code",
   "execution_count": 16,
   "id": "1ae61cfc",
   "metadata": {},
   "outputs": [
    {
     "data": {
      "text/plain": [
       "Decimal('3.140000000000000124344978758017532527446746826171875')"
      ]
     },
     "execution_count": 16,
     "metadata": {},
     "output_type": "execute_result"
    }
   ],
   "source": [
    "Decimal(3.14)"
   ]
  },
  {
   "cell_type": "code",
   "execution_count": 17,
   "id": "9463274c",
   "metadata": {},
   "outputs": [
    {
     "data": {
      "text/plain": [
       "Decimal('3.14')"
      ]
     },
     "execution_count": 17,
     "metadata": {},
     "output_type": "execute_result"
    }
   ],
   "source": [
    "Decimal('3.14')"
   ]
  },
  {
   "cell_type": "code",
   "execution_count": 21,
   "id": "03e53ec7",
   "metadata": {},
   "outputs": [
    {
     "data": {
      "text/plain": [
       "0.2"
      ]
     },
     "execution_count": 21,
     "metadata": {},
     "output_type": "execute_result"
    }
   ],
   "source": [
    "round(1.2 - 1.0, 1)"
   ]
  },
  {
   "cell_type": "code",
   "execution_count": null,
   "id": "b33aadf1",
   "metadata": {},
   "outputs": [],
   "source": []
  }
 ],
 "metadata": {
  "kernelspec": {
   "display_name": "Python 3",
   "language": "python",
   "name": "python3"
  },
  "language_info": {
   "codemirror_mode": {
    "name": "ipython",
    "version": 3
   },
   "file_extension": ".py",
   "mimetype": "text/x-python",
   "name": "python",
   "nbconvert_exporter": "python",
   "pygments_lexer": "ipython3",
   "version": "3.10.9"
  },
  "vscode": {
   "interpreter": {
    "hash": "7979fad80aa1335d30ea56a984fe1e89b052a6547b2b39a157bd1a9595359baa"
   }
  }
 },
 "nbformat": 4,
 "nbformat_minor": 5
}
