{
 "cells": [
  {
   "cell_type": "markdown",
   "id": "48f2163c",
   "metadata": {},
   "source": [
    "## Factorial Challenge\n",
    "\n",
    "The factorial function gives the number of possible arrangements of a set of items of length \"n\"\n",
    "\n",
    "For example, there are 4! (\"four factorial\") or 24 ways to arrange four items, which can be calculated as: \n",
    "4 \\* 3 \\* 2 \\* 1\n",
    "\n",
    "5! = 5 \\* 4 \\* 3 \\* 2 \\* 1 = 120\n",
    "\n",
    "6! = 6 \\* 5 \\* 4 \\* 3 \\* 2 \\* 1 = 720\n",
    "\n",
    "etc.\n",
    "\n",
    "In a set of 0 items (an empty set) there is only one way to arrange the items, therefore, 0! = 1\n",
    "\n",
    "For the purposes of this exercise, factorials are only defined for **positive integers** (including 0)\n",
    "\n",
    "\n"
   ]
  },
  {
   "cell_type": "code",
   "execution_count": 118,
   "id": "92af0386",
   "metadata": {},
   "outputs": [],
   "source": [
    "# Returns the value of the factorial of num if it is defined, otherwise, returns None\n",
    "def factorial(num):\n",
    "    if type(num) is not int or num < 0:\n",
    "        return None\n",
    "    else:\n",
    "        answer = 1\n",
    "        while num > 0:\n",
    "            answer = answer * num\n",
    "            num = num - 1\n",
    "        return answer"
   ]
  },
  {
   "cell_type": "code",
   "execution_count": 119,
   "id": "1d10be7a",
   "metadata": {},
   "outputs": [
    {
     "data": {
      "text/plain": [
       "120"
      ]
     },
     "execution_count": 119,
     "metadata": {},
     "output_type": "execute_result"
    }
   ],
   "source": [
    "# return 120\n",
    "factorial(5)"
   ]
  },
  {
   "cell_type": "code",
   "execution_count": 120,
   "id": "580eeb3e",
   "metadata": {},
   "outputs": [
    {
     "data": {
      "text/plain": [
       "720"
      ]
     },
     "execution_count": 120,
     "metadata": {},
     "output_type": "execute_result"
    }
   ],
   "source": [
    "# return 720\n",
    "factorial (6)"
   ]
  },
  {
   "cell_type": "code",
   "execution_count": 121,
   "id": "c43845c1",
   "metadata": {},
   "outputs": [
    {
     "data": {
      "text/plain": [
       "1"
      ]
     },
     "execution_count": 121,
     "metadata": {},
     "output_type": "execute_result"
    }
   ],
   "source": [
    "# return 1\n",
    "factorial(0)"
   ]
  },
  {
   "cell_type": "code",
   "execution_count": 122,
   "id": "8f605415",
   "metadata": {},
   "outputs": [],
   "source": [
    "# return None\n",
    "factorial(-2)"
   ]
  },
  {
   "cell_type": "code",
   "execution_count": 123,
   "id": "5b973ff0",
   "metadata": {},
   "outputs": [],
   "source": [
    "# return None\n",
    "factorial(1.2)"
   ]
  },
  {
   "cell_type": "code",
   "execution_count": 124,
   "id": "67f07cca",
   "metadata": {},
   "outputs": [],
   "source": [
    "# return None\n",
    "factorial('spam spam spam spam spam spam')"
   ]
  },
  {
   "cell_type": "code",
   "execution_count": null,
   "id": "714148cd",
   "metadata": {},
   "outputs": [],
   "source": []
  }
 ],
 "metadata": {
  "kernelspec": {
   "display_name": "Python 3",
   "language": "python",
   "name": "python3"
  },
  "language_info": {
   "codemirror_mode": {
    "name": "ipython",
    "version": 3
   },
   "file_extension": ".py",
   "mimetype": "text/x-python",
   "name": "python",
   "nbconvert_exporter": "python",
   "pygments_lexer": "ipython3",
   "version": "3.10.9"
  },
  "vscode": {
   "interpreter": {
    "hash": "7979fad80aa1335d30ea56a984fe1e89b052a6547b2b39a157bd1a9595359baa"
   }
  }
 },
 "nbformat": 4,
 "nbformat_minor": 5
}
